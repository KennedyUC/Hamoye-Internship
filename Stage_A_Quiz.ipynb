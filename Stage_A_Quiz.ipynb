{
 "cells": [
  {
   "cell_type": "markdown",
   "metadata": {},
   "source": [
    "## Importing the necessary python libraries for the quiz"
   ]
  },
  {
   "cell_type": "code",
   "execution_count": 1,
   "metadata": {},
   "outputs": [],
   "source": [
    "import pandas as pd\n",
    "\n",
    "import numpy as np"
   ]
  },
  {
   "cell_type": "markdown",
   "metadata": {},
   "source": [
    "## Importing the dataset for the Quiz"
   ]
  },
  {
   "cell_type": "code",
   "execution_count": 2,
   "metadata": {},
   "outputs": [],
   "source": [
    "fuel_dataset = pd.read_csv(\"hamoye_dataset.csv\", encoding='ISO-8859-1')"
   ]
  },
  {
   "cell_type": "markdown",
   "metadata": {},
   "source": [
    "# Question 1:\n",
    "### Create a list by combining the elements of A = [1,2,3,4,5,6] and B = [13,21,34]"
   ]
  },
  {
   "cell_type": "code",
   "execution_count": 3,
   "metadata": {},
   "outputs": [],
   "source": [
    "A = [1,2,3,4,5,6]\n",
    "\n",
    "B = [13,21,34]"
   ]
  },
  {
   "cell_type": "code",
   "execution_count": 4,
   "metadata": {},
   "outputs": [
    {
     "name": "stdout",
     "output_type": "stream",
     "text": [
      "[1, 2, 3, 4, 5, 6, 13, 21, 34]\n"
     ]
    }
   ],
   "source": [
    "A.extend(B)\n",
    "\n",
    "print(A)"
   ]
  },
  {
   "cell_type": "markdown",
   "metadata": {},
   "source": [
    "# Question 2:\n",
    "\n",
    "### Creating an identity element"
   ]
  },
  {
   "cell_type": "code",
   "execution_count": 5,
   "metadata": {},
   "outputs": [
    {
     "data": {
      "text/plain": [
       "array([[1., 0., 0.],\n",
       "       [0., 1., 0.],\n",
       "       [0., 0., 1.]])"
      ]
     },
     "execution_count": 5,
     "metadata": {},
     "output_type": "execute_result"
    }
   ],
   "source": [
    "iden_matrix = np.identity(3)\n",
    "\n",
    "iden_matrix"
   ]
  },
  {
   "cell_type": "markdown",
   "metadata": {},
   "source": [
    "# Question 3:\n",
    "### Which fuel type code has the lowest average fuel cost per unit burned?"
   ]
  },
  {
   "cell_type": "code",
   "execution_count": 6,
   "metadata": {},
   "outputs": [
    {
     "data": {
      "text/plain": [
       "fuel_type_code_pudl\n",
       "gas          13.659397\n",
       "other        18.253856\n",
       "waste        19.518122\n",
       "coal         67.421830\n",
       "oil         168.877086\n",
       "nuclear    4955.157002\n",
       "Name: fuel_cost_per_unit_burned, dtype: float64"
      ]
     },
     "execution_count": 6,
     "metadata": {},
     "output_type": "execute_result"
    }
   ],
   "source": [
    "fuel_dataset.groupby('fuel_type_code_pudl')['fuel_cost_per_unit_burned'].mean().sort_values()\n",
    "\n",
    "# Grouping the dataset by 'fuel_type_code_pud1' considering 'fuel_cost_per_unit_burned'"
   ]
  },
  {
   "cell_type": "markdown",
   "metadata": {},
   "source": [
    "### From the above table, the fuel type code whith the lowest average fuel cost per unit burned is gas."
   ]
  },
  {
   "cell_type": "markdown",
   "metadata": {},
   "source": [
    "\n",
    "\n",
    "# Question 4:\n",
    "### What is the standard deviation and 75th percentile of the measure of energy per unit in 2 decimal places?"
   ]
  },
  {
   "cell_type": "code",
   "execution_count": 7,
   "metadata": {},
   "outputs": [
    {
     "data": {
      "text/plain": [
       "count    29523.000000\n",
       "mean         8.492111\n",
       "std         10.600220\n",
       "min          0.000001\n",
       "25%          1.024000\n",
       "50%          5.762694\n",
       "75%         17.006000\n",
       "max        341.260000\n",
       "Name: fuel_mmbtu_per_unit, dtype: float64"
      ]
     },
     "execution_count": 7,
     "metadata": {},
     "output_type": "execute_result"
    }
   ],
   "source": [
    "fuel_dataset['fuel_mmbtu_per_unit'].describe()"
   ]
  },
  {
   "cell_type": "code",
   "execution_count": 8,
   "metadata": {},
   "outputs": [
    {
     "name": "stdout",
     "output_type": "stream",
     "text": [
      "The standard deviation of the measure of the energy per unit, in two decimal places = 10.60\n"
     ]
    }
   ],
   "source": [
    "std = fuel_dataset['fuel_mmbtu_per_unit'].describe()['std']\n",
    "\n",
    "print(f\"The standard deviation of the measure of the energy per unit, in two decimal places = {std:.2f}\")"
   ]
  },
  {
   "cell_type": "code",
   "execution_count": 9,
   "metadata": {},
   "outputs": [
    {
     "name": "stdout",
     "output_type": "stream",
     "text": [
      "The 75th percentile of the measure of the energy per unit, in two decimal places = 17.01\n"
     ]
    }
   ],
   "source": [
    "percentile = fuel_dataset['fuel_mmbtu_per_unit'].describe()['75%']\n",
    "\n",
    "print(f\"The 75th percentile of the measure of the energy per unit, in two decimal places = {percentile:.2f}\")"
   ]
  },
  {
   "cell_type": "markdown",
   "metadata": {},
   "source": [
    "# Question 5:\n",
    "### What is the skewness and kurtosis for the fuel quantity burned in two decimal places?"
   ]
  },
  {
   "cell_type": "code",
   "execution_count": 10,
   "metadata": {},
   "outputs": [
    {
     "name": "stdout",
     "output_type": "stream",
     "text": [
      "The skewness for the fuel quantity burned in two decimal places = 15.85\n"
     ]
    }
   ],
   "source": [
    "skewness = fuel_dataset['fuel_qty_burned'].skew()\n",
    "\n",
    "print(f\"The skewness for the fuel quantity burned in two decimal places = {skewness:.2f}\")"
   ]
  },
  {
   "cell_type": "code",
   "execution_count": 11,
   "metadata": {},
   "outputs": [
    {
     "name": "stdout",
     "output_type": "stream",
     "text": [
      "The kurtosis for the fuel quantity burned in two decimal places = 651.37\n"
     ]
    }
   ],
   "source": [
    "kurtosis = fuel_dataset['fuel_qty_burned'].kurtosis()\n",
    "\n",
    "print(f\"The kurtosis for the fuel quantity burned in two decimal places = {kurtosis:.2f}\")"
   ]
  },
  {
   "cell_type": "markdown",
   "metadata": {},
   "source": [
    "# Question 6:\n",
    "### Which feature has missing values? What is the total number of missing values? What is the percentage of the missing rows as a factor of the total number of rows in three decimal places?"
   ]
  },
  {
   "cell_type": "code",
   "execution_count": 12,
   "metadata": {},
   "outputs": [
    {
     "data": {
      "text/plain": [
       "record_id                         0\n",
       "utility_id_ferc1                  0\n",
       "report_year                       0\n",
       "plant_name_ferc1                  0\n",
       "fuel_type_code_pudl               0\n",
       "fuel_unit                       180\n",
       "fuel_qty_burned                   0\n",
       "fuel_mmbtu_per_unit               0\n",
       "fuel_cost_per_unit_burned         0\n",
       "fuel_cost_per_unit_delivered      0\n",
       "fuel_cost_per_mmbtu               0\n",
       "dtype: int64"
      ]
     },
     "execution_count": 12,
     "metadata": {},
     "output_type": "execute_result"
    }
   ],
   "source": [
    "fuel_dataset.isnull().sum()"
   ]
  },
  {
   "cell_type": "markdown",
   "metadata": {},
   "source": [
    "From the above, fuel_unit is the feature with missing values.\n",
    "\n",
    "There are 180 missing values in total."
   ]
  },
  {
   "cell_type": "code",
   "execution_count": 13,
   "metadata": {},
   "outputs": [],
   "source": [
    "total_rows = len(fuel_dataset)"
   ]
  },
  {
   "cell_type": "code",
   "execution_count": 14,
   "metadata": {},
   "outputs": [],
   "source": [
    "percent_missing_rows = (180/total_rows)*100"
   ]
  },
  {
   "cell_type": "code",
   "execution_count": 15,
   "metadata": {},
   "outputs": [
    {
     "name": "stdout",
     "output_type": "stream",
     "text": [
      "The percentage of missing rows as a factor of the total number of rows = 0.610%\n"
     ]
    }
   ],
   "source": [
    "print(f\"The percentage of missing rows as a factor of the total number of rows = {percent_missing_rows:.3f}%\")"
   ]
  },
  {
   "cell_type": "markdown",
   "metadata": {},
   "source": [
    "# Question 7:\n",
    "### What category does the feature with missing values fall?\n",
    "### What missing value imputatation technique would you use?"
   ]
  },
  {
   "cell_type": "code",
   "execution_count": 16,
   "metadata": {},
   "outputs": [],
   "source": [
    "# Category of fuel_unit: Categorical\n",
    "# Imputation technique: mode (mcf)"
   ]
  },
  {
   "cell_type": "markdown",
   "metadata": {},
   "source": [
    "# Question 8:\n",
    "### Which of the features have the second lowest and third loweast correlation with the fuel cost per unit burned?"
   ]
  },
  {
   "cell_type": "code",
   "execution_count": 17,
   "metadata": {},
   "outputs": [
    {
     "data": {
      "text/html": [
       "<div>\n",
       "<style scoped>\n",
       "    .dataframe tbody tr th:only-of-type {\n",
       "        vertical-align: middle;\n",
       "    }\n",
       "\n",
       "    .dataframe tbody tr th {\n",
       "        vertical-align: top;\n",
       "    }\n",
       "\n",
       "    .dataframe thead th {\n",
       "        text-align: right;\n",
       "    }\n",
       "</style>\n",
       "<table border=\"1\" class=\"dataframe\">\n",
       "  <thead>\n",
       "    <tr style=\"text-align: right;\">\n",
       "      <th></th>\n",
       "      <th>utility_id_ferc1</th>\n",
       "      <th>report_year</th>\n",
       "      <th>fuel_qty_burned</th>\n",
       "      <th>fuel_mmbtu_per_unit</th>\n",
       "      <th>fuel_cost_per_unit_burned</th>\n",
       "      <th>fuel_cost_per_unit_delivered</th>\n",
       "      <th>fuel_cost_per_mmbtu</th>\n",
       "    </tr>\n",
       "  </thead>\n",
       "  <tbody>\n",
       "    <tr>\n",
       "      <th>fuel_cost_per_mmbtu</th>\n",
       "      <td>0.006122</td>\n",
       "      <td>0.010261</td>\n",
       "      <td>0.001896</td>\n",
       "      <td>0.005884</td>\n",
       "      <td>0.000437</td>\n",
       "      <td>0.000109</td>\n",
       "      <td>1.000000</td>\n",
       "    </tr>\n",
       "    <tr>\n",
       "      <th>fuel_mmbtu_per_unit</th>\n",
       "      <td>0.066946</td>\n",
       "      <td>0.110853</td>\n",
       "      <td>0.080946</td>\n",
       "      <td>1.000000</td>\n",
       "      <td>0.010034</td>\n",
       "      <td>0.009039</td>\n",
       "      <td>0.005884</td>\n",
       "    </tr>\n",
       "    <tr>\n",
       "      <th>fuel_cost_per_unit_delivered</th>\n",
       "      <td>0.016414</td>\n",
       "      <td>0.014043</td>\n",
       "      <td>0.003551</td>\n",
       "      <td>0.009039</td>\n",
       "      <td>0.011007</td>\n",
       "      <td>1.000000</td>\n",
       "      <td>0.000109</td>\n",
       "    </tr>\n",
       "    <tr>\n",
       "      <th>report_year</th>\n",
       "      <td>0.093323</td>\n",
       "      <td>1.000000</td>\n",
       "      <td>0.012952</td>\n",
       "      <td>0.110853</td>\n",
       "      <td>0.013599</td>\n",
       "      <td>0.014043</td>\n",
       "      <td>0.010261</td>\n",
       "    </tr>\n",
       "    <tr>\n",
       "      <th>fuel_qty_burned</th>\n",
       "      <td>0.057447</td>\n",
       "      <td>0.012952</td>\n",
       "      <td>1.000000</td>\n",
       "      <td>0.080946</td>\n",
       "      <td>0.018535</td>\n",
       "      <td>0.003551</td>\n",
       "      <td>0.001896</td>\n",
       "    </tr>\n",
       "    <tr>\n",
       "      <th>utility_id_ferc1</th>\n",
       "      <td>1.000000</td>\n",
       "      <td>0.093323</td>\n",
       "      <td>0.057447</td>\n",
       "      <td>0.066946</td>\n",
       "      <td>0.037863</td>\n",
       "      <td>0.016414</td>\n",
       "      <td>0.006122</td>\n",
       "    </tr>\n",
       "    <tr>\n",
       "      <th>fuel_cost_per_unit_burned</th>\n",
       "      <td>0.037863</td>\n",
       "      <td>0.013599</td>\n",
       "      <td>0.018535</td>\n",
       "      <td>0.010034</td>\n",
       "      <td>1.000000</td>\n",
       "      <td>0.011007</td>\n",
       "      <td>0.000437</td>\n",
       "    </tr>\n",
       "  </tbody>\n",
       "</table>\n",
       "</div>"
      ],
      "text/plain": [
       "                              utility_id_ferc1  report_year  fuel_qty_burned  \\\n",
       "fuel_cost_per_mmbtu                   0.006122     0.010261         0.001896   \n",
       "fuel_mmbtu_per_unit                   0.066946     0.110853         0.080946   \n",
       "fuel_cost_per_unit_delivered          0.016414     0.014043         0.003551   \n",
       "report_year                           0.093323     1.000000         0.012952   \n",
       "fuel_qty_burned                       0.057447     0.012952         1.000000   \n",
       "utility_id_ferc1                      1.000000     0.093323         0.057447   \n",
       "fuel_cost_per_unit_burned             0.037863     0.013599         0.018535   \n",
       "\n",
       "                              fuel_mmbtu_per_unit  fuel_cost_per_unit_burned  \\\n",
       "fuel_cost_per_mmbtu                      0.005884                   0.000437   \n",
       "fuel_mmbtu_per_unit                      1.000000                   0.010034   \n",
       "fuel_cost_per_unit_delivered             0.009039                   0.011007   \n",
       "report_year                              0.110853                   0.013599   \n",
       "fuel_qty_burned                          0.080946                   0.018535   \n",
       "utility_id_ferc1                         0.066946                   0.037863   \n",
       "fuel_cost_per_unit_burned                0.010034                   1.000000   \n",
       "\n",
       "                              fuel_cost_per_unit_delivered  \\\n",
       "fuel_cost_per_mmbtu                               0.000109   \n",
       "fuel_mmbtu_per_unit                               0.009039   \n",
       "fuel_cost_per_unit_delivered                      1.000000   \n",
       "report_year                                       0.014043   \n",
       "fuel_qty_burned                                   0.003551   \n",
       "utility_id_ferc1                                  0.016414   \n",
       "fuel_cost_per_unit_burned                         0.011007   \n",
       "\n",
       "                              fuel_cost_per_mmbtu  \n",
       "fuel_cost_per_mmbtu                      1.000000  \n",
       "fuel_mmbtu_per_unit                      0.005884  \n",
       "fuel_cost_per_unit_delivered             0.000109  \n",
       "report_year                              0.010261  \n",
       "fuel_qty_burned                          0.001896  \n",
       "utility_id_ferc1                         0.006122  \n",
       "fuel_cost_per_unit_burned                0.000437  "
      ]
     },
     "execution_count": 17,
     "metadata": {},
     "output_type": "execute_result"
    }
   ],
   "source": [
    "fuel_dataset.corr().abs().sort_values(by ='fuel_cost_per_unit_burned')"
   ]
  },
  {
   "cell_type": "markdown",
   "metadata": {},
   "source": [
    "From the above table, the second and third lowest correlation under the fuel_cost_per_unit_burned column are 0.010034 and 0.011007 respectively, corresponding to fuel_mmbtu_per_unit and fuel_cost_per_unit_delivered."
   ]
  },
  {
   "cell_type": "markdown",
   "metadata": {},
   "source": [
    "# Question 9:\n",
    "### For the fuel type coal, what is the percentage change in the fuel cost burned in 1998 compared to 1994?"
   ]
  },
  {
   "cell_type": "code",
   "execution_count": 18,
   "metadata": {},
   "outputs": [
    {
     "data": {
      "text/plain": [
       "fuel_type_code_pudl  report_year\n",
       "coal                 1994           14984.572\n",
       "                     1995           14571.785\n",
       "                     1996           12694.803\n",
       "                     1997           43742.178\n",
       "                     1998           11902.597\n",
       "                                      ...    \n",
       "waste                2014             591.594\n",
       "                     2015             629.270\n",
       "                     2016             539.079\n",
       "                     2017             452.079\n",
       "                     2018             660.972\n",
       "Name: fuel_cost_per_unit_burned, Length: 148, dtype: float64"
      ]
     },
     "execution_count": 18,
     "metadata": {},
     "output_type": "execute_result"
    }
   ],
   "source": [
    "fuel_type_grouped = fuel_dataset.groupby(['fuel_type_code_pudl', 'report_year'])['fuel_cost_per_unit_burned'].sum()\n",
    "\n",
    "fuel_type_grouped"
   ]
  },
  {
   "cell_type": "code",
   "execution_count": 19,
   "metadata": {},
   "outputs": [],
   "source": [
    "unit_cost_1994 = fuel_type_grouped['coal', 1994]\n",
    "\n",
    "unit_cost_1998 = fuel_type_grouped['coal', 1998]"
   ]
  },
  {
   "cell_type": "code",
   "execution_count": 20,
   "metadata": {},
   "outputs": [
    {
     "name": "stdout",
     "output_type": "stream",
     "text": [
      "The fuel cost per unit burned in 1998 is 20.57% less than that in 1994\n"
     ]
    }
   ],
   "source": [
    "percent_change = ((unit_cost_1998 - unit_cost_1994)/unit_cost_1994)*100\n",
    "\n",
    "print(f\"The fuel cost per unit burned in 1998 is {abs(percent_change):.2f}% less than that in 1994\")"
   ]
  },
  {
   "cell_type": "markdown",
   "metadata": {},
   "source": [
    "# Question 10:\n",
    "### Which year has the highest average fuel cost per unit delivered?"
   ]
  },
  {
   "cell_type": "code",
   "execution_count": 22,
   "metadata": {},
   "outputs": [
    {
     "data": {
      "text/plain": [
       "report_year\n",
       "1997    11140.197239\n",
       "1996     9196.705948\n",
       "2000      985.362877\n",
       "2009      652.694163\n",
       "2018      499.269966\n",
       "2015      326.535511\n",
       "1998      287.154420\n",
       "2014      192.737183\n",
       "2013      172.307591\n",
       "2004      139.524275\n",
       "2016      103.901761\n",
       "2010       91.862105\n",
       "1994       63.636060\n",
       "2012       60.994502\n",
       "2001       60.050396\n",
       "2011       59.774667\n",
       "2008       58.588197\n",
       "2003       55.663493\n",
       "2002       47.594361\n",
       "2017       46.196861\n",
       "2007       43.325023\n",
       "2005       41.438184\n",
       "2006       38.657484\n",
       "1995       32.735269\n",
       "1999       25.551627\n",
       "Name: fuel_cost_per_unit_delivered, dtype: float64"
      ]
     },
     "execution_count": 22,
     "metadata": {},
     "output_type": "execute_result"
    }
   ],
   "source": [
    "fuel_dataset.groupby('report_year')['fuel_cost_per_unit_delivered'].mean().sort_values(ascending=False)"
   ]
  },
  {
   "cell_type": "markdown",
   "metadata": {},
   "source": [
    "From the table above, the highest average fuel cost per unit delivered is 11140.197239, corresponding to the year 1997"
   ]
  },
  {
   "cell_type": "markdown",
   "metadata": {},
   "source": [
    "# THANKS!"
   ]
  }
 ],
 "metadata": {
  "kernelspec": {
   "display_name": "Python 3",
   "language": "python",
   "name": "python3"
  },
  "language_info": {
   "codemirror_mode": {
    "name": "ipython",
    "version": 3
   },
   "file_extension": ".py",
   "mimetype": "text/x-python",
   "name": "python",
   "nbconvert_exporter": "python",
   "pygments_lexer": "ipython3",
   "version": "3.8.5"
  }
 },
 "nbformat": 4,
 "nbformat_minor": 4
}
